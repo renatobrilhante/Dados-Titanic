{
 "cells": [
  {
   "cell_type": "markdown",
   "id": "d857d34f",
   "metadata": {},
   "source": [
    "# Tratando Dados com Python\n",
    "\n",
    "GitHub: https://github.com/renatobrilhante/Dados-Titanic.git"
   ]
  },
  {
   "cell_type": "code",
   "execution_count": null,
   "id": "2030c416",
   "metadata": {},
   "outputs": [],
   "source": [
    "titanic_csv = open('titanic.csv','r')"
   ]
  },
  {
   "cell_type": "code",
   "execution_count": null,
   "id": "97b3bc60",
   "metadata": {},
   "outputs": [],
   "source": [
    "titanic_csv.readlines()"
   ]
  },
  {
   "cell_type": "code",
   "execution_count": null,
   "id": "5af96502",
   "metadata": {},
   "outputs": [],
   "source": [
    "titanic_csv.seek(0)"
   ]
  },
  {
   "cell_type": "code",
   "execution_count": null,
   "id": "0aecb2f7",
   "metadata": {},
   "outputs": [],
   "source": [
    "linhas = titanic_csv.readlines()"
   ]
  },
  {
   "cell_type": "code",
   "execution_count": null,
   "id": "db066401",
   "metadata": {},
   "outputs": [],
   "source": [
    "linhas"
   ]
  },
  {
   "cell_type": "code",
   "execution_count": null,
   "id": "2b9ec7c7",
   "metadata": {},
   "outputs": [],
   "source": [
    "titanic_csv.close()"
   ]
  },
  {
   "cell_type": "code",
   "execution_count": null,
   "id": "139b244b",
   "metadata": {},
   "outputs": [],
   "source": [
    "linhas[0].split(',')"
   ]
  },
  {
   "cell_type": "code",
   "execution_count": null,
   "id": "98df4992",
   "metadata": {},
   "outputs": [],
   "source": [
    "# Transformando linha em coluna\n",
    "colunas = linhas[0].split(',')"
   ]
  },
  {
   "cell_type": "code",
   "execution_count": null,
   "id": "9b73f63a",
   "metadata": {},
   "outputs": [],
   "source": [
    "colunas"
   ]
  },
  {
   "cell_type": "code",
   "execution_count": null,
   "id": "c816e637",
   "metadata": {},
   "outputs": [],
   "source": [
    "dados = linhas[1].split(',')"
   ]
  },
  {
   "cell_type": "code",
   "execution_count": null,
   "id": "ab957954",
   "metadata": {},
   "outputs": [],
   "source": [
    "print(colunas)\n",
    "print(dados)"
   ]
  },
  {
   "cell_type": "code",
   "execution_count": null,
   "id": "c58b474d",
   "metadata": {},
   "outputs": [],
   "source": [
    "print(len(colunas), len(dados))"
   ]
  },
  {
   "cell_type": "code",
   "execution_count": null,
   "id": "f6e9d935",
   "metadata": {},
   "outputs": [],
   "source": [
    "# Função para remover vírgula dos nomes e trocar a posição\n",
    "def tratar_nome(linha):\n",
    "    import re\n",
    "    match = re.compile(r'\"(.*)(,)(\\s.*)\"')\n",
    "    return match.sub(r'\"\\3 \\1\"', linha)"
   ]
  },
  {
   "cell_type": "code",
   "execution_count": null,
   "id": "2307f087",
   "metadata": {},
   "outputs": [],
   "source": [
    "tratar_nome(linhas[1])"
   ]
  },
  {
   "cell_type": "code",
   "execution_count": null,
   "id": "182bcef1",
   "metadata": {},
   "outputs": [],
   "source": [
    "linha1_tratada = tratar_nome(linhas[1])\n",
    "type(linha1_tratada)"
   ]
  },
  {
   "cell_type": "code",
   "execution_count": null,
   "id": "7f3f0cc0",
   "metadata": {},
   "outputs": [],
   "source": [
    "linha1_separada = linha1_tratada.split(\",\")"
   ]
  },
  {
   "cell_type": "code",
   "execution_count": null,
   "id": "85249ba0",
   "metadata": {},
   "outputs": [],
   "source": [
    "print(colunas)\n",
    "print(linha1_tratada)\n",
    "print(linha1_separada)"
   ]
  },
  {
   "cell_type": "code",
   "execution_count": null,
   "id": "48853ac1",
   "metadata": {},
   "outputs": [],
   "source": [
    "print(len(colunas), len(linha1_separada))"
   ]
  },
  {
   "cell_type": "code",
   "execution_count": null,
   "id": "e1442dd6",
   "metadata": {},
   "outputs": [],
   "source": [
    "# Criando dicionário com as chaves e os valores vazios\n",
    "titanic_dados = {}\n",
    "\n",
    "for coluna in colunas:\n",
    "    titanic_dados[coluna] = []\n",
    "titanic_dados"
   ]
  },
  {
   "cell_type": "code",
   "execution_count": null,
   "id": "affb103c",
   "metadata": {},
   "outputs": [],
   "source": [
    "# Tratando todas as linhas retirando a linha 0 que é o cabeçalho\n",
    "for dado in linhas[1:]:\n",
    "    dado_tratado = tratar_nome(dado)\n",
    "    print(dado_tratado)"
   ]
  },
  {
   "cell_type": "code",
   "execution_count": null,
   "id": "8c7f0130",
   "metadata": {},
   "outputs": [],
   "source": [
    "# Separando linhas pela vírgula e convertendo em uma lista\n",
    "for dado in linhas[1:]:\n",
    "    dado_tratado = tratar_nome(dado)\n",
    "    dado_como_lista = dado_tratado.split(',')\n",
    "    print(dado_como_lista)"
   ]
  },
  {
   "cell_type": "code",
   "execution_count": null,
   "id": "693639ed",
   "metadata": {},
   "outputs": [],
   "source": [
    "dados_tratados = []\n",
    "\n",
    "for dado in linhas[1:]:\n",
    "    dado_tratado = tratar_nome(dado)\n",
    "    dado_como_lista = dado_tratado.split(',')\n",
    "    dados_tratados.append(dado_como_lista)"
   ]
  },
  {
   "cell_type": "code",
   "execution_count": null,
   "id": "0c341ff1",
   "metadata": {},
   "outputs": [],
   "source": [
    "print(dados_tratados[0][3])"
   ]
  },
  {
   "cell_type": "code",
   "execution_count": null,
   "id": "81ac0e38",
   "metadata": {},
   "outputs": [],
   "source": [
    "for passageiro in dados_tratados:\n",
    "    print(colunas[4], passageiro[4]) #Mesmo indice colunas e o passageiro"
   ]
  },
  {
   "cell_type": "code",
   "execution_count": null,
   "id": "0c711c32",
   "metadata": {},
   "outputs": [],
   "source": [
    "for passageiro in dados_tratados:\n",
    "    for indice, dado in enumerate(passageiro): #Enumerate retorna INDICE e VALOR (atribuicao MULTIPLA)\n",
    "        coluna = colunas[indice]\n",
    "        print(coluna,dado)"
   ]
  },
  {
   "cell_type": "code",
   "execution_count": null,
   "id": "8972d65a",
   "metadata": {},
   "outputs": [],
   "source": [
    "for passageiro in dados_tratados:\n",
    "    for indice, dado in enumerate(passageiro): \n",
    "        coluna = colunas[indice]\n",
    "        titanic_dados[coluna].append(dado)"
   ]
  },
  {
   "cell_type": "code",
   "execution_count": null,
   "id": "325f799d",
   "metadata": {},
   "outputs": [],
   "source": [
    "titanic_dados"
   ]
  },
  {
   "cell_type": "code",
   "execution_count": null,
   "id": "1ec01d33",
   "metadata": {},
   "outputs": [],
   "source": [
    "for indice, age in enumerate(titanic_dados[\"Age\"]):\n",
    "    if titanic_dados['Age'][indice] != '':\n",
    "        titanic_dados['Age'][indice] = float(age)\n",
    "    else:\n",
    "        titanic_dados['Age'][indice] = -1"
   ]
  },
  {
   "cell_type": "code",
   "execution_count": null,
   "id": "1168ff86",
   "metadata": {},
   "outputs": [],
   "source": [
    "lista_idades = []\n",
    "\n",
    "for idade in titanic_dados[\"Age\"]:\n",
    "    if idade != -1:\n",
    "        lista_idades.append(idade)"
   ]
  },
  {
   "cell_type": "code",
   "execution_count": null,
   "id": "d0e4c663",
   "metadata": {},
   "outputs": [],
   "source": [
    "def media(lista):\n",
    "    soma_total = sum(lista)\n",
    "    quantidade = len(lista)\n",
    "    return soma_total / quantidade"
   ]
  },
  {
   "cell_type": "code",
   "execution_count": null,
   "id": "3f60eabc",
   "metadata": {},
   "outputs": [],
   "source": [
    "# Idade Média\n",
    "print('%.f' % media(lista_idades))"
   ]
  },
  {
   "cell_type": "code",
   "execution_count": null,
   "id": "a470c12b",
   "metadata": {},
   "outputs": [],
   "source": [
    "for indice, survived in enumerate(titanic_dados[\"Survived\"]):\n",
    "    if titanic_dados['Survived'][indice] != 0:\n",
    "        titanic_dados['Survived'][indice] = int(survived)\n",
    "    else:\n",
    "        titanic_dados['Survived'][indice] = -1"
   ]
  },
  {
   "cell_type": "code",
   "execution_count": null,
   "id": "6a8fa0b7",
   "metadata": {},
   "outputs": [],
   "source": [
    "sobreviveu = []\n",
    "nao_sobreviveu = []\n",
    "\n",
    "for survived in titanic_dados[\"Survived\"]:\n",
    "    if survived != 0:\n",
    "        sobreviveu.append(survived)\n",
    "    else:\n",
    "        nao_sobreviveu.append(survived)        "
   ]
  },
  {
   "cell_type": "code",
   "execution_count": null,
   "id": "eaa417e5",
   "metadata": {},
   "outputs": [],
   "source": [
    "def total(lista_sob):\n",
    "    total_sob = len(lista_sob)\n",
    "    return total_sob"
   ]
  },
  {
   "cell_type": "code",
   "execution_count": null,
   "id": "4034c900",
   "metadata": {},
   "outputs": [],
   "source": [
    "# Sobreviveram\n",
    "len(sobreviveu)"
   ]
  },
  {
   "cell_type": "code",
   "execution_count": null,
   "id": "abd3a63f",
   "metadata": {},
   "outputs": [],
   "source": [
    "# Não sobreviveram\n",
    "len(nao_sobreviveu)"
   ]
  }
 ],
 "metadata": {
  "kernelspec": {
   "display_name": "Python 3 (ipykernel)",
   "language": "python",
   "name": "python3"
  },
  "language_info": {
   "codemirror_mode": {
    "name": "ipython",
    "version": 3
   },
   "file_extension": ".py",
   "mimetype": "text/x-python",
   "name": "python",
   "nbconvert_exporter": "python",
   "pygments_lexer": "ipython3",
   "version": "3.10.9"
  }
 },
 "nbformat": 4,
 "nbformat_minor": 5
}
